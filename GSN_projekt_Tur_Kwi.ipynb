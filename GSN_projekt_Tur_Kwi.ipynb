{
  "nbformat": 4,
  "nbformat_minor": 0,
  "metadata": {
    "colab": {
      "name": "GSN - projekt Tur-Kwi.ipynb",
      "provenance": [],
      "collapsed_sections": []
    },
    "kernelspec": {
      "name": "python3",
      "display_name": "Python 3"
    },
    "language_info": {
      "name": "python"
    },
    "accelerator": "GPU"
  },
  "cells": [
    {
      "cell_type": "markdown",
      "source": [
        "#Klasyfikacja gatunków muzycznych\n",
        "\n",
        "Autorzy: Jakub Turliński, Damian Kwiek  \n",
        "Projekt zaliczeniowy z przedmiotu Głębokie Sieci Neuronowe. Semestr 21Z.\n",
        "\n",
        "**Klonowanie repozytorium**\n",
        "\n",
        "Celem wykonania odpowiedniego eksperymentu należy odkomentować kod klonujący odpowiednią gałąź repozytorium."
      ],
      "metadata": {
        "id": "YLs_Jvroxzw5"
      }
    },
    {
      "cell_type": "code",
      "execution_count": null,
      "metadata": {
        "colab": {
          "base_uri": "https://localhost:8080/"
        },
        "id": "iFf2T-V1wwbk",
        "outputId": "e999d0fa-21ac-4aed-eec1-c117c54074d7"
      },
      "outputs": [
        {
          "output_type": "stream",
          "name": "stdout",
          "text": [
            "Cloning into 'GSN_projekt_Tur-Kwi'...\n",
            "remote: Enumerating objects: 222, done.\u001b[K\n",
            "remote: Counting objects: 100% (27/27), done.\u001b[K\n",
            "remote: Compressing objects: 100% (20/20), done.\u001b[K\n",
            "remote: Total 222 (delta 17), reused 7 (delta 7), pack-reused 195\u001b[K\n",
            "Receiving objects: 100% (222/222), 1.51 MiB | 8.09 MiB/s, done.\n",
            "Resolving deltas: 100% (80/80), done.\n",
            "/content/GSN_projekt_Tur-Kwi\n"
          ]
        }
      ],
      "source": [
        "#!git clone --single-branch --branch main https://github.com/JacobtheRipper/GSN_projekt_Tur-Kwi.git\n",
        "!git clone --single-branch --branch dropoutFix https://github.com/JacobtheRipper/GSN_projekt_Tur-Kwi.git\n",
        "#!git clone --single-branch --branch increaseSpectrogramContrast https://github.com/JacobtheRipper/GSN_projekt_Tur-Kwi.git\n",
        "%cd GSN_projekt_Tur-Kwi"
      ]
    },
    {
      "cell_type": "markdown",
      "source": [
        "\n",
        "**Ustawienie hierarchii folderów**\n",
        "\n",
        "Aby kod zadziałał należy umieścić folder `FMA_spectrograms.zip` w folderze `dataset`.\n",
        "\n",
        "Folder `FMA_spectrograms.zip` jest automatycznie kopiowany z usługi `Dropbox` komendą `wget`\n",
        "\n"
      ],
      "metadata": {
        "id": "jxGBSC6ZSl3V"
      }
    },
    {
      "cell_type": "code",
      "source": [
        "!apt-get install p7zip-full  # for unzipping the dataset\n",
        "\n",
        "%cd dataset\n",
        "\n",
        "# Uncomment the correct dataset to perform appropiate experiment\n",
        "\n",
        "!wget -O FMA_spectrograms.zip https://www.dropbox.com/s/d57irtv6y8uqjdd/FMA_spectrograms.zip?dl=0  # Standard dataset\n",
        "\n",
        "#!wget -O FMA_spectrograms.zip https://www.dropbox.com/s/hclllzpkzcr6tx3/FMA_spectrograms.zip?dl=0  # Dataset with varied loudness\n",
        "\n",
        "!7za x FMA_spectrograms.zip\n",
        "\n",
        "%cd .."
      ],
      "metadata": {
        "colab": {
          "base_uri": "https://localhost:8080/"
        },
        "id": "p4hf2KnxSmY0",
        "outputId": "f2fba9a9-96a4-4197-dc53-4ab6662afa51"
      },
      "execution_count": null,
      "outputs": [
        {
          "output_type": "stream",
          "name": "stdout",
          "text": [
            "Reading package lists... Done\n",
            "Building dependency tree       \n",
            "Reading state information... Done\n",
            "p7zip-full is already the newest version (16.02+dfsg-6).\n",
            "0 upgraded, 0 newly installed, 0 to remove and 37 not upgraded.\n",
            "/content/GSN_projekt_Tur-Kwi/dataset\n",
            "--2022-01-15 20:35:34--  https://www.dropbox.com/s/hclllzpkzcr6tx3/FMA_spectrograms.zip?dl=0\n",
            "Resolving www.dropbox.com (www.dropbox.com)... 162.125.1.18, 2620:100:6016:18::a27d:112\n",
            "Connecting to www.dropbox.com (www.dropbox.com)|162.125.1.18|:443... connected.\n",
            "HTTP request sent, awaiting response... 301 Moved Permanently\n",
            "Location: /s/raw/hclllzpkzcr6tx3/FMA_spectrograms.zip [following]\n",
            "--2022-01-15 20:35:34--  https://www.dropbox.com/s/raw/hclllzpkzcr6tx3/FMA_spectrograms.zip\n",
            "Reusing existing connection to www.dropbox.com:443.\n",
            "HTTP request sent, awaiting response... 302 Found\n",
            "Location: https://uc820ff660b4ce728bff8488a6e1.dl.dropboxusercontent.com/cd/0/inline/Bd2DnuB4DIS4kvFd2PtrNfGVikNDxfBbakrUpDMM--Pteh0fDIoqtdZ8ckcyRmDnM5J14p0cBDUPDxrWA9V7QbR6Y_scPHMu3DssK3rXlgScxW4a38488rBB-5CSK39gH1XU9ETDtMw62PerH3xmi1u8/file# [following]\n",
            "--2022-01-15 20:35:34--  https://uc820ff660b4ce728bff8488a6e1.dl.dropboxusercontent.com/cd/0/inline/Bd2DnuB4DIS4kvFd2PtrNfGVikNDxfBbakrUpDMM--Pteh0fDIoqtdZ8ckcyRmDnM5J14p0cBDUPDxrWA9V7QbR6Y_scPHMu3DssK3rXlgScxW4a38488rBB-5CSK39gH1XU9ETDtMw62PerH3xmi1u8/file\n",
            "Resolving uc820ff660b4ce728bff8488a6e1.dl.dropboxusercontent.com (uc820ff660b4ce728bff8488a6e1.dl.dropboxusercontent.com)... 162.125.1.15, 2620:100:6016:15::a27d:10f\n",
            "Connecting to uc820ff660b4ce728bff8488a6e1.dl.dropboxusercontent.com (uc820ff660b4ce728bff8488a6e1.dl.dropboxusercontent.com)|162.125.1.15|:443... connected.\n",
            "HTTP request sent, awaiting response... 302 Found\n",
            "Location: /cd/0/inline2/Bd2CVtTBo5go0VXJUpSXuQSUDi1jMSfWN_mCM3_o7waFa7NK7AJo-u2pMe417d1olwpQyYZ_diqEbbC7drXb30pCj_orN2iqxQb92VZe-tguCHtFIfn7WB8grlJNDZv1GCSzv6L6DIzMVSCC4mhjtDDmFmxFTPNjgUMzXfm80mHkkWFpuqqhdzd3MxDODPL_dP511N7XqQUsrIb5zSkQe9NGDNbFrIdJCaXyN2iTNR7VlaeGEvWYv_tM-nMseF7KsAQvTIhmFx3vMxrhOLfiHgL4wtUHe4LlMz3j5STz-iNdDGRScvTCMUxSnrEAhgkVZaKDamsDWHWhE-EQiS8PUH-Z3ajrxTfsn-XYFq-ezFY6UOnUE9k3-alHSCkWlaUAZzs/file [following]\n",
            "--2022-01-15 20:35:34--  https://uc820ff660b4ce728bff8488a6e1.dl.dropboxusercontent.com/cd/0/inline2/Bd2CVtTBo5go0VXJUpSXuQSUDi1jMSfWN_mCM3_o7waFa7NK7AJo-u2pMe417d1olwpQyYZ_diqEbbC7drXb30pCj_orN2iqxQb92VZe-tguCHtFIfn7WB8grlJNDZv1GCSzv6L6DIzMVSCC4mhjtDDmFmxFTPNjgUMzXfm80mHkkWFpuqqhdzd3MxDODPL_dP511N7XqQUsrIb5zSkQe9NGDNbFrIdJCaXyN2iTNR7VlaeGEvWYv_tM-nMseF7KsAQvTIhmFx3vMxrhOLfiHgL4wtUHe4LlMz3j5STz-iNdDGRScvTCMUxSnrEAhgkVZaKDamsDWHWhE-EQiS8PUH-Z3ajrxTfsn-XYFq-ezFY6UOnUE9k3-alHSCkWlaUAZzs/file\n",
            "Reusing existing connection to uc820ff660b4ce728bff8488a6e1.dl.dropboxusercontent.com:443.\n",
            "HTTP request sent, awaiting response... 200 OK\n",
            "Length: 64672775 (62M) [application/zip]\n",
            "Saving to: ‘FMA_spectrograms.zip’\n",
            "\n",
            "FMA_spectrograms.zi 100%[===================>]  61.68M   229MB/s    in 0.3s    \n",
            "\n",
            "2022-01-15 20:35:35 (229 MB/s) - ‘FMA_spectrograms.zip’ saved [64672775/64672775]\n",
            "\n",
            "\n",
            "7-Zip (a) [64] 16.02 : Copyright (c) 1999-2016 Igor Pavlov : 2016-05-21\n",
            "p7zip Version 16.02 (locale=en_US.UTF-8,Utf16=on,HugeFiles=on,64 bits,2 CPUs Intel(R) Xeon(R) CPU @ 2.20GHz (406F0),ASM,AES-NI)\n",
            "\n",
            "Scanning the drive for archives:\n",
            "  0M Scan\b\b\b\b\b\b\b\b\b         \b\b\b\b\b\b\b\b\b1 file, 64672775 bytes (62 MiB)\n",
            "\n",
            "Extracting archive: FMA_spectrograms.zip\n",
            " 51% 4096 Open\b\b\b\b\b\b\b\b\b\b\b\b\b\b              \b\b\b\b\b\b\b\b\b\b\b\b\b\b--\n",
            "Path = FMA_spectrograms.zip\n",
            "Type = zip\n",
            "Physical Size = 64672775\n",
            "\n",
            "  0%\b\b\b\b    \b\b\b\b 12% 968 - content/fma/FMA_spectrograms/Pop/47100.png\b\b\b\b\b\b\b\b\b\b\b\b\b\b\b\b\b\b\b\b\b\b\b\b\b\b\b\b\b\b\b\b\b\b\b\b\b\b\b\b\b\b\b\b\b\b\b\b\b\b\b\b\b                                                     \b\b\b\b\b\b\b\b\b\b\b\b\b\b\b\b\b\b\b\b\b\b\b\b\b\b\b\b\b\b\b\b\b\b\b\b\b\b\b\b\b\b\b\b\b\b\b\b\b\b\b\b\b 24% 1964 - content/fma/FMA_spectrograms/International/19674.png\b\b\b\b\b\b\b\b\b\b\b\b\b\b\b\b\b\b\b\b\b\b\b\b\b\b\b\b\b\b\b\b\b\b\b\b\b\b\b\b\b\b\b\b\b\b\b\b\b\b\b\b\b\b\b\b\b\b\b\b\b\b\b\b                                                                \b\b\b\b\b\b\b\b\b\b\b\b\b\b\b\b\b\b\b\b\b\b\b\b\b\b\b\b\b\b\b\b\b\b\b\b\b\b\b\b\b\b\b\b\b\b\b\b\b\b\b\b\b\b\b\b\b\b\b\b\b\b\b\b 36% 2953 - content/fma/FMA_spectrograms/Experimental/84405.png\b\b\b\b\b\b\b\b\b\b\b\b\b\b\b\b\b\b\b\b\b\b\b\b\b\b\b\b\b\b\b\b\b\b\b\b\b\b\b\b\b\b\b\b\b\b\b\b\b\b\b\b\b\b\b\b\b\b\b\b\b\b\b                                                               \b\b\b\b\b\b\b\b\b\b\b\b\b\b\b\b\b\b\b\b\b\b\b\b\b\b\b\b\b\b\b\b\b\b\b\b\b\b\b\b\b\b\b\b\b\b\b\b\b\b\b\b\b\b\b\b\b\b\b\b\b\b\b 49% 3941 - content/fma/FMA_spectrograms/Rock/63045.png\b\b\b\b\b\b\b\b\b\b\b\b\b\b\b\b\b\b\b\b\b\b\b\b\b\b\b\b\b\b\b\b\b\b\b\b\b\b\b\b\b\b\b\b\b\b\b\b\b\b\b\b\b\b\b                                                       \b\b\b\b\b\b\b\b\b\b\b\b\b\b\b\b\b\b\b\b\b\b\b\b\b\b\b\b\b\b\b\b\b\b\b\b\b\b\b\b\b\b\b\b\b\b\b\b\b\b\b\b\b\b\b 59% 4766 - content/fma/FMA_spectrograms/Electronic/33123.png\b\b\b\b\b\b\b\b\b\b\b\b\b\b\b\b\b\b\b\b\b\b\b\b\b\b\b\b\b\b\b\b\b\b\b\b\b\b\b\b\b\b\b\b\b\b\b\b\b\b\b\b\b\b\b\b\b\b\b\b\b                                                             \b\b\b\b\b\b\b\b\b\b\b\b\b\b\b\b\b\b\b\b\b\b\b\b\b\b\b\b\b\b\b\b\b\b\b\b\b\b\b\b\b\b\b\b\b\b\b\b\b\b\b\b\b\b\b\b\b\b\b\b\b 70% 5646 - content/fma/FMA_spectrograms/Instrumental/115888.png\b\b\b\b\b\b\b\b\b\b\b\b\b\b\b\b\b\b\b\b\b\b\b\b\b\b\b\b\b\b\b\b\b\b\b\b\b\b\b\b\b\b\b\b\b\b\b\b\b\b\b\b\b\b\b\b\b\b\b\b\b\b\b\b                                                                \b\b\b\b\b\b\b\b\b\b\b\b\b\b\b\b\b\b\b\b\b\b\b\b\b\b\b\b\b\b\b\b\b\b\b\b\b\b\b\b\b\b\b\b\b\b\b\b\b\b\b\b\b\b\b\b\b\b\b\b\b\b\b\b 82% 6607 - content/fma/FMA_spectrograms/Hip-Hop/137896.png\b\b\b\b\b\b\b\b\b\b\b\b\b\b\b\b\b\b\b\b\b\b\b\b\b\b\b\b\b\b\b\b\b\b\b\b\b\b\b\b\b\b\b\b\b\b\b\b\b\b\b\b\b\b\b\b\b\b\b                                                           \b\b\b\b\b\b\b\b\b\b\b\b\b\b\b\b\b\b\b\b\b\b\b\b\b\b\b\b\b\b\b\b\b\b\b\b\b\b\b\b\b\b\b\b\b\b\b\b\b\b\b\b\b\b\b\b\b\b\b 94% 7569 - content/fma/FMA_spectrograms/Folk/145002.png\b\b\b\b\b\b\b\b\b\b\b\b\b\b\b\b\b\b\b\b\b\b\b\b\b\b\b\b\b\b\b\b\b\b\b\b\b\b\b\b\b\b\b\b\b\b\b\b\b\b\b\b\b\b\b\b                                                        \b\b\b\b\b\b\b\b\b\b\b\b\b\b\b\b\b\b\b\b\b\b\b\b\b\b\b\b\b\b\b\b\b\b\b\b\b\b\b\b\b\b\b\b\b\b\b\b\b\b\b\b\b\b\b\bEverything is Ok\n",
            "\n",
            "Folders: 9\n",
            "Files: 8001\n",
            "Size:       63232635\n",
            "Compressed: 64672775\n",
            "/content/GSN_projekt_Tur-Kwi\n"
          ]
        }
      ]
    },
    {
      "cell_type": "markdown",
      "source": [
        "**Uruchomienie kodu**"
      ],
      "metadata": {
        "id": "oPxY_D6tSnDl"
      }
    },
    {
      "cell_type": "code",
      "source": [
        "!python convnet.py"
      ],
      "metadata": {
        "colab": {
          "base_uri": "https://localhost:8080/"
        },
        "id": "eA0Zdavd5goM",
        "outputId": "7ceafc0a-433b-4393-a4dd-a1ea35d44fa7"
      },
      "execution_count": null,
      "outputs": [
        {
          "output_type": "stream",
          "name": "stdout",
          "text": [
            "torch.Size([64, 8])\n",
            "Epoch 1 out of 50 \n",
            "Epoch 2 out of 50 \n",
            "Epoch 3 out of 50 \n",
            "Epoch 4 out of 50 \n",
            "Epoch 5 out of 50 \n",
            "===> Saving checkpoint at epoch: 5\n",
            "Checking accuracy on training data\n",
            "Correctly classified examples: 2299 / 6400 with accuracy 35.92\n",
            "Checking accuracy on validation data\n",
            "Correctly classified examples: 294 / 800 with accuracy 36.75\n",
            "Checking accuracy on test data\n",
            "Correctly classified examples: 264 / 800 with accuracy 33.00\n",
            "Epoch 6 out of 50 \n",
            "Epoch 7 out of 50 \n",
            "Epoch 8 out of 50 \n",
            "Epoch 9 out of 50 \n",
            "Epoch 10 out of 50 \n",
            "===> Saving checkpoint at epoch: 10\n",
            "Checking accuracy on training data\n",
            "Correctly classified examples: 2546 / 6400 with accuracy 39.78\n",
            "Checking accuracy on validation data\n",
            "Correctly classified examples: 323 / 800 with accuracy 40.38\n",
            "Checking accuracy on test data\n",
            "Correctly classified examples: 284 / 800 with accuracy 35.50\n",
            "Epoch 11 out of 50 \n",
            "Epoch 12 out of 50 \n",
            "Epoch 13 out of 50 \n",
            "Epoch 14 out of 50 \n",
            "Epoch 15 out of 50 \n",
            "===> Saving checkpoint at epoch: 15\n",
            "Checking accuracy on training data\n",
            "Correctly classified examples: 2610 / 6400 with accuracy 40.78\n",
            "Checking accuracy on validation data\n",
            "Correctly classified examples: 297 / 800 with accuracy 37.12\n",
            "Checking accuracy on test data\n",
            "Correctly classified examples: 293 / 800 with accuracy 36.62\n",
            "Epoch 16 out of 50 \n",
            "Epoch 17 out of 50 \n",
            "Epoch 18 out of 50 \n",
            "Epoch 19 out of 50 \n",
            "Epoch 20 out of 50 \n",
            "===> Saving checkpoint at epoch: 20\n",
            "Checking accuracy on training data\n",
            "Correctly classified examples: 2840 / 6400 with accuracy 44.38\n",
            "Checking accuracy on validation data\n",
            "Correctly classified examples: 318 / 800 with accuracy 39.75\n",
            "Checking accuracy on test data\n",
            "Correctly classified examples: 296 / 800 with accuracy 37.00\n",
            "Epoch 21 out of 50 \n",
            "Epoch 22 out of 50 \n",
            "Epoch 23 out of 50 \n",
            "Epoch 24 out of 50 \n",
            "Epoch 25 out of 50 \n",
            "===> Saving checkpoint at epoch: 25\n",
            "Checking accuracy on training data\n",
            "Correctly classified examples: 3006 / 6400 with accuracy 46.97\n",
            "Checking accuracy on validation data\n",
            "Correctly classified examples: 319 / 800 with accuracy 39.88\n",
            "Checking accuracy on test data\n",
            "Correctly classified examples: 301 / 800 with accuracy 37.62\n",
            "Epoch 26 out of 50 \n",
            "Epoch 27 out of 50 \n",
            "Epoch 28 out of 50 \n",
            "Epoch 29 out of 50 \n",
            "Epoch 30 out of 50 \n",
            "===> Saving checkpoint at epoch: 30\n",
            "Checking accuracy on training data\n",
            "Correctly classified examples: 3179 / 6400 with accuracy 49.67\n",
            "Checking accuracy on validation data\n",
            "Correctly classified examples: 325 / 800 with accuracy 40.62\n",
            "Checking accuracy on test data\n",
            "Correctly classified examples: 302 / 800 with accuracy 37.75\n",
            "Epoch 31 out of 50 \n",
            "Epoch 32 out of 50 \n",
            "Epoch 33 out of 50 \n",
            "Epoch 34 out of 50 \n",
            "Epoch 35 out of 50 \n",
            "===> Saving checkpoint at epoch: 35\n",
            "Checking accuracy on training data\n",
            "Correctly classified examples: 3506 / 6400 with accuracy 54.78\n",
            "Checking accuracy on validation data\n",
            "Correctly classified examples: 317 / 800 with accuracy 39.62\n",
            "Checking accuracy on test data\n",
            "Correctly classified examples: 313 / 800 with accuracy 39.12\n",
            "Epoch 36 out of 50 \n",
            "Epoch 37 out of 50 \n",
            "Epoch 38 out of 50 \n",
            "Epoch 39 out of 50 \n",
            "Epoch 40 out of 50 \n",
            "===> Saving checkpoint at epoch: 40\n",
            "Checking accuracy on training data\n",
            "Correctly classified examples: 3764 / 6400 with accuracy 58.81\n",
            "Checking accuracy on validation data\n",
            "Correctly classified examples: 320 / 800 with accuracy 40.00\n",
            "Checking accuracy on test data\n",
            "Correctly classified examples: 297 / 800 with accuracy 37.12\n",
            "Epoch 41 out of 50 \n",
            "Epoch 42 out of 50 \n",
            "Epoch 43 out of 50 \n",
            "Epoch 44 out of 50 \n",
            "Epoch 45 out of 50 \n",
            "===> Saving checkpoint at epoch: 45\n",
            "Checking accuracy on training data\n",
            "Correctly classified examples: 3926 / 6400 with accuracy 61.34\n",
            "Checking accuracy on validation data\n",
            "Correctly classified examples: 320 / 800 with accuracy 40.00\n",
            "Checking accuracy on test data\n",
            "Correctly classified examples: 311 / 800 with accuracy 38.88\n",
            "Epoch 46 out of 50 \n",
            "Epoch 47 out of 50 \n",
            "Epoch 48 out of 50 \n",
            "Epoch 49 out of 50 \n",
            "Epoch 50 out of 50 \n",
            "===> Saving checkpoint at epoch: 50\n",
            "Checking accuracy on training data\n",
            "Correctly classified examples: 4336 / 6400 with accuracy 67.75\n",
            "Checking accuracy on validation data\n",
            "Correctly classified examples: 305 / 800 with accuracy 38.12\n",
            "Checking accuracy on test data\n",
            "Correctly classified examples: 292 / 800 with accuracy 36.50\n"
          ]
        }
      ]
    }
  ]
}